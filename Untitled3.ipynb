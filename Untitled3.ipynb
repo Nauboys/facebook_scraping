{
  "nbformat": 4,
  "nbformat_minor": 0,
  "metadata": {
    "colab": {
      "name": "Untitled3.ipynb",
      "provenance": [],
      "collapsed_sections": [],
      "authorship_tag": "ABX9TyNVaulM7DD/bBgExpWsiK5i",
      "include_colab_link": true
    },
    "kernelspec": {
      "name": "python3",
      "display_name": "Python 3"
    }
  },
  "cells": [
    {
      "cell_type": "markdown",
      "metadata": {
        "id": "view-in-github",
        "colab_type": "text"
      },
      "source": [
        "<a href=\"https://colab.research.google.com/github/Nauboys/facebook_scraping/blob/master/Untitled3.ipynb\" target=\"_parent\"><img src=\"https://colab.research.google.com/assets/colab-badge.svg\" alt=\"Open In Colab\"/></a>"
      ]
    },
    {
      "cell_type": "code",
      "metadata": {
        "id": "MckeOsJGoVI1",
        "colab_type": "code",
        "colab": {}
      },
      "source": [
        "import requests\n",
        "from bs4 import BeautifulSoup\n"
      ],
      "execution_count": 104,
      "outputs": []
    },
    {
      "cell_type": "code",
      "metadata": {
        "id": "KKTBBxUAoHww",
        "colab_type": "code",
        "colab": {}
      },
      "source": [
        "\n",
        "class FaceBookBot():\n",
        "    login_basic_url = 'https://mbasic.facebook.com/login'\n",
        "    payload = {\n",
        "            'email': \"\",\n",
        "            'pass': \"\"\n",
        "        }\n",
        "    post_ID = \"\"\n",
        "\n",
        "    def parse_html(self, request_url):\n",
        "        with requests.Session() as session:\n",
        "            post = session.post(self.login_basic_url, data=self.payload)\n",
        "            parsed_html = session.get(request_url)\n",
        "        return parsed_html\n",
        "\n",
        "    def find_review(self):\n",
        "        REQUEST_URL = f\"https://www.facebook.com/pg/{self.post_ID}/reviews/?ref=page_internal\"\n",
        "        soup = BeautifulSoup(self.parse_html(REQUEST_URL).content, \"html.parser\")   \n",
        "        reviews = soup.find_all(\"p\")\n",
        "        people_who_shared = []\n",
        "        for review in reviews:\n",
        "          people_who_shared.append(review.text)\n",
        "\n",
        "        \n",
        "        like_or_nots = soup.find_all(\"span\", class_=\"fcg\")\n",
        "        # print(like_or_nots)\n",
        "        counter = 0\n",
        "        people_who_shared_likes = []\n",
        "        for like_or_not in like_or_nots:\n",
        "          counter += 1\n",
        "          if counter !=2:\n",
        "            continue\n",
        "          counter = -1\n",
        "          # print(like_or_not)\n",
        "          # print(\"////////////////////////////////////////////////////////////////////\")\n",
        "          if like_or_not.find(\"recommends\")!=-1 or ( like_or_not.find(\"reviewed\")!=-1 and (like_or_not.find(\"5 star\")!=-1 or like_or_not.find(\"4 star\")!=-1)):\n",
        "            people_who_shared_likes.append(\"Positive\")\n",
        "          elif like_or_not.find(\"doesn't recommend\")!=-1 or ( like_or_not.find(\"reviewed\")!=-1 and (like_or_not.find(\"3 star\")!=-1 or like_or_not.find(\"2 star\")!=-1 or like_or_not.find(\"1 star\")!=-1)):\n",
        "            people_who_shared_likes.append(\"Negative\")\n",
        "\n",
        "          # if like_or_not['class'] == \"fcg\":\n",
        "          #   print(like_or_not.text)\n",
        "          #   people_who_shared_likes.append(like_or_not.text)\n",
        "\n",
        "        return people_who_shared,people_who_shared_likes \n"
      ],
      "execution_count": 105,
      "outputs": []
    },
    {
      "cell_type": "code",
      "metadata": {
        "id": "wZq9-RiUod42",
        "colab_type": "code",
        "colab": {
          "base_uri": "https://localhost:8080/",
          "height": 54
        },
        "outputId": "cc27ed53-126d-4ab4-cb9e-3114a16a7717"
      },
      "source": [
        "bot = FaceBookBot()\n",
        "bot.post_ID = \"vinnipub\"\n",
        "print(bot.find_review())\n",
        "# bot.find_review()"
      ],
      "execution_count": 106,
      "outputs": [
        {
          "output_type": "stream",
          "text": [
            "(['nice pub. friendly staff, democratic prices, delicios beer and snacks.AWESOME music! higly recommended.', 'Reasonable, cozy and friendly place for drinking', 'Good good good', 'The Best beer bar in Baku! Very good beer, shots and best people. �'], ['Positive', 'Positive', 'Positive', 'Positive'])\n"
          ],
          "name": "stdout"
        }
      ]
    },
    {
      "cell_type": "code",
      "metadata": {
        "id": "tYL_nVi-kUlr",
        "colab_type": "code",
        "colab": {}
      },
      "source": [
        ""
      ],
      "execution_count": 106,
      "outputs": []
    },
    {
      "cell_type": "code",
      "metadata": {
        "id": "5Bk2dWmXohwc",
        "colab_type": "code",
        "colab": {}
      },
      "source": [
        ""
      ],
      "execution_count": 106,
      "outputs": []
    },
    {
      "cell_type": "code",
      "metadata": {
        "id": "Nki-Crj8p4JG",
        "colab_type": "code",
        "colab": {}
      },
      "source": [
        ""
      ],
      "execution_count": 106,
      "outputs": []
    }
  ]
}