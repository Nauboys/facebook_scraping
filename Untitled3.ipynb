{
  "nbformat": 4,
  "nbformat_minor": 0,
  "metadata": {
    "colab": {
      "name": "Untitled3.ipynb",
      "provenance": [],
      "collapsed_sections": [],
      "authorship_tag": "ABX9TyNVaulM7DD/bBgExpWsiK5i",
      "include_colab_link": true
    },
    "kernelspec": {
      "name": "python3",
      "display_name": "Python 3"
    }
  },
  "cells": [
    {
      "cell_type": "markdown",
      "metadata": {
        "id": "view-in-github",
        "colab_type": "text"
      },
      "source": [
        "<a href=\"https://colab.research.google.com/github/Nauboys/facebook_scraping/blob/master/Untitled3.ipynb\" target=\"_parent\"><img src=\"https://colab.research.google.com/assets/colab-badge.svg\" alt=\"Open In Colab\"/></a>"
      ]
    },
    {
      "cell_type": "code",
      "metadata": {
        "id": "MckeOsJGoVI1",
        "colab_type": "code",
        "colab": {}
      },
      "source": [
        "import requests\n",
        "from bs4 import BeautifulSoup\n"
      ],
      "execution_count": 14,
      "outputs": []
    },
    {
      "cell_type": "code",
      "metadata": {
        "id": "KKTBBxUAoHww",
        "colab_type": "code",
        "colab": {}
      },
      "source": [
        "\n",
        "class FaceBookBot():\n",
        "    login_basic_url = 'https://mbasic.facebook.com/login'\n",
        "    payload = {\n",
        "            'email': \"\",\n",
        "            'pass': \"\"\n",
        "        }\n",
        "    post_ID = \"\"\n",
        "\n",
        "    def parse_html(self, request_url):\n",
        "        with requests.Session() as session:\n",
        "            post = session.post(self.login_basic_url, data=self.payload)\n",
        "            parsed_html = session.get(request_url)\n",
        "        return parsed_html\n",
        "\n",
        "    def find_review(self):\n",
        "        REQUEST_URL = f\"https://www.facebook.com/pg/{self.post_ID}/reviews/?ref=page_internal\"\n",
        "        soup = BeautifulSoup(self.parse_html(REQUEST_URL).content, \"html.parser\")   \n",
        "        reviews = soup.find_all(\"p\")\n",
        "        people_who_shared = []\n",
        "        for review in reviews:\n",
        "          people_who_shared.append(review.text)\n",
        "\n",
        "        \n",
        "        like_or_nots = soup.find_all(\"span\", class_=\"fcg\")\n",
        "        # print(like_or_nots)\n",
        "        counter = 0\n",
        "        people_who_shared_likes = []\n",
        "        for like_or_not in like_or_nots:\n",
        "          counter += 1\n",
        "          if counter !=2:\n",
        "            continue\n",
        "          counter = -1\n",
        "          # print(like_or_not)\n",
        "          # print(\"////////////////////////////////////////////////////////////////////\")\n",
        "          if like_or_not.find(\"recommends\")!=-1 or ( like_or_not.find(\"reviewed\")!=-1 and (like_or_not.find(\"5 star\")!=-1 or like_or_not.find(\"4 star\")!=-1)):\n",
        "            people_who_shared_likes.append(\"Positive\")\n",
        "          elif like_or_not.find(\"doesn't recommend\")!=-1 or ( like_or_not.find(\"reviewed\")!=-1 and (like_or_not.find(\"3 star\")!=-1 or like_or_not.find(\"2 star\")!=-1 or like_or_not.find(\"1 star\")!=-1)):\n",
        "            people_who_shared_likes.append(\"Negative\")\n",
        "\n",
        "          # if like_or_not['class'] == \"fcg\":\n",
        "          #   print(like_or_not.text)\n",
        "          #   people_who_shared_likes.append(like_or_not.text)\n",
        "\n",
        "        return people_who_shared,people_who_shared_likes \n"
      ],
      "execution_count": 102,
      "outputs": []
    },
    {
      "cell_type": "code",
      "metadata": {
        "id": "wZq9-RiUod42",
        "colab_type": "code",
        "colab": {
          "base_uri": "https://localhost:8080/",
          "height": 193
        },
        "outputId": "bd89ba16-b1d4-45f0-80dc-407be453aa1a"
      },
      "source": [
        "bot = FaceBookBot()\n",
        "bot.post_ID = \"vinnipub\"\n",
        "print(bot.find_review())\n",
        "# bot.find_review()"
      ],
      "execution_count": 103,
      "outputs": [
        {
          "output_type": "stream",
          "text": [
            "<span class=\"fcg\"><span class=\"fwb\"><span class=\"profileLink\" data-ft='{\"tn\":\"l\"}'>Oskar Bin</span></span> <i class=\"_51mq img sp_5qN0OkBUSjs sx_e5826d\"></i> recommends <a class=\"profileLink\" data-ft='{\"tn\":\"k\"}' href=\"https://www.facebook.com/vinnipub/?hc_ref=ARSVaoRHLdj9o1YcJkfTUfGXHuwpyrfTkrKOgV9yDN0qFYr5uam3Q195SprFESRPKEQ&amp;ref=nf_target&amp;fref=tag\">Vinni Pub</a>.</span>\n",
            "////////////////////////////////////////////////////////////////////\n",
            "<span class=\"fcg\"><span class=\"fwb\"><a class=\"profileLink\" data-ft='{\"tn\":\"l\"}' href=\"https://www.facebook.com/MrBensusan?hc_ref=ARSP_Hu6HJnBAUk69q-lDR8S2MFSlsjGuOBhP806kexGSOeiyYe1rlXXAxUDjMNimvM&amp;ref=nf_target\">Hikmet N Bensusan</a></span> <i class=\"_51mq img sp_5qN0OkBUSjs sx_e5826d\"></i> recommends <a class=\"profileLink\" data-ft='{\"tn\":\"k\"}' href=\"https://www.facebook.com/vinnipub/?hc_ref=ARSP_Hu6HJnBAUk69q-lDR8S2MFSlsjGuOBhP806kexGSOeiyYe1rlXXAxUDjMNimvM&amp;ref=nf_target&amp;fref=tag\">Vinni Pub</a>.</span>\n",
            "////////////////////////////////////////////////////////////////////\n",
            "<span class=\"fcg\"><span class=\"fwb\"><a class=\"profileLink\" data-ft='{\"tn\":\"l\"}' href=\"https://www.facebook.com/FaiqMirzeyev1?hc_ref=ARQLpYCp5N6tnZ-_DWYkaHH9jnk-39Pi8Y2VMe88-RWy7jEx9qhLWr-vRYkDvwxwe4c&amp;ref=nf_target\">Ali Faiq Mirzə</a></span> <i class=\"_51mq img sp_5qN0OkBUSjs sx_e5826d\"></i> recommends <a class=\"profileLink\" data-ft='{\"tn\":\"k\"}' href=\"https://www.facebook.com/vinnipub/?hc_ref=ARQLpYCp5N6tnZ-_DWYkaHH9jnk-39Pi8Y2VMe88-RWy7jEx9qhLWr-vRYkDvwxwe4c&amp;ref=nf_target&amp;fref=tag\">Vinni Pub</a>.</span>\n",
            "////////////////////////////////////////////////////////////////////\n",
            "<span class=\"fcg\"><span class=\"fwb\"><a class=\"profileLink\" data-ft='{\"tn\":\"l\"}' href=\"https://www.facebook.com/magdalenka.molnarova?hc_ref=ARTaK4UT5Rpw4sME9DTnQIiQ8D6czzhKCMc8IqnaqTLOfgionNIN8hwqg3bEiP1oA24&amp;ref=nf_target\">Magdaléna Molnárová</a></span> reviewed <a class=\"profileLink\" data-ft='{\"tn\":\"k\"}' href=\"https://www.facebook.com/vinnipub/?hc_ref=ARTaK4UT5Rpw4sME9DTnQIiQ8D6czzhKCMc8IqnaqTLOfgionNIN8hwqg3bEiP1oA24&amp;ref=nf_target&amp;fref=tag\">Vinni Pub</a> — <i class=\"_51mq img sp_5qN0OkBUSjs sx_92fa7b\"><u>5 star</u></i></span>\n",
            "////////////////////////////////////////////////////////////////////\n",
            "(['nice pub. friendly staff, democratic prices, delicios beer and snacks.AWESOME music! higly recommended.', 'Reasonable, cozy and friendly place for drinking', 'Good good good', 'The Best beer bar in Baku! Very good beer, shots and best people. �'], ['Positive', 'Positive', 'Positive', 'Positive'])\n"
          ],
          "name": "stdout"
        }
      ]
    },
    {
      "cell_type": "code",
      "metadata": {
        "id": "tYL_nVi-kUlr",
        "colab_type": "code",
        "colab": {}
      },
      "source": [
        ""
      ],
      "execution_count": null,
      "outputs": []
    },
    {
      "cell_type": "code",
      "metadata": {
        "id": "5Bk2dWmXohwc",
        "colab_type": "code",
        "colab": {}
      },
      "source": [
        ""
      ],
      "execution_count": 66,
      "outputs": []
    },
    {
      "cell_type": "code",
      "metadata": {
        "id": "Nki-Crj8p4JG",
        "colab_type": "code",
        "colab": {
          "base_uri": "https://localhost:8080/",
          "height": 306
        },
        "outputId": "9830acde-6207-4690-e195-6d6f840ed1b9"
      },
      "source": [
        ""
      ],
      "execution_count": 67,
      "outputs": [
        {
          "output_type": "error",
          "ename": "TypeError",
          "evalue": "ignored",
          "traceback": [
            "\u001b[0;31m---------------------------------------------------------------------------\u001b[0m",
            "\u001b[0;31mTypeError\u001b[0m                                 Traceback (most recent call last)",
            "\u001b[0;32m<ipython-input-67-1ed1d4f94ea9>\u001b[0m in \u001b[0;36m<module>\u001b[0;34m()\u001b[0m\n\u001b[0;32m----> 1\u001b[0;31m \u001b[0mprint\u001b[0m\u001b[0;34m(\u001b[0m\u001b[0mbot\u001b[0m\u001b[0;34m.\u001b[0m\u001b[0mfind_review\u001b[0m\u001b[0;34m(\u001b[0m\u001b[0;34m)\u001b[0m\u001b[0;34m)\u001b[0m\u001b[0;34m\u001b[0m\u001b[0;34m\u001b[0m\u001b[0m\n\u001b[0m\u001b[1;32m      2\u001b[0m \u001b[0;31m# bot.find_review()\u001b[0m\u001b[0;34m\u001b[0m\u001b[0;34m\u001b[0m\u001b[0;34m\u001b[0m\u001b[0m\n",
            "\u001b[0;32m<ipython-input-64-949bee4cf43c>\u001b[0m in \u001b[0;36mfind_review\u001b[0;34m(self)\u001b[0m\n\u001b[1;32m     71\u001b[0m         \u001b[0mpeople_who_shared_likes\u001b[0m \u001b[0;34m=\u001b[0m \u001b[0;34m[\u001b[0m\u001b[0;34m]\u001b[0m\u001b[0;34m\u001b[0m\u001b[0;34m\u001b[0m\u001b[0m\n\u001b[1;32m     72\u001b[0m         \u001b[0;32mfor\u001b[0m \u001b[0mlike_or_not\u001b[0m \u001b[0;32min\u001b[0m \u001b[0mlike_or_nots\u001b[0m\u001b[0;34m:\u001b[0m\u001b[0;34m\u001b[0m\u001b[0;34m\u001b[0m\u001b[0m\n\u001b[0;32m---> 73\u001b[0;31m           \u001b[0;32mif\u001b[0m \u001b[0mlike_or_not\u001b[0m\u001b[0;34m[\u001b[0m\u001b[0;34m\"class\"\u001b[0m\u001b[0;34m]\u001b[0m \u001b[0;34m==\u001b[0m \u001b[0;34m\"fcg\"\u001b[0m\u001b[0;34m:\u001b[0m\u001b[0;34m\u001b[0m\u001b[0;34m\u001b[0m\u001b[0m\n\u001b[0m\u001b[1;32m     74\u001b[0m             \u001b[0mprint\u001b[0m\u001b[0;34m(\u001b[0m\u001b[0mlike_or_not\u001b[0m\u001b[0;34m.\u001b[0m\u001b[0mtext\u001b[0m\u001b[0;34m)\u001b[0m\u001b[0;34m\u001b[0m\u001b[0;34m\u001b[0m\u001b[0m\n\u001b[1;32m     75\u001b[0m             \u001b[0mpeople_who_shared_likes\u001b[0m\u001b[0;34m.\u001b[0m\u001b[0mappend\u001b[0m\u001b[0;34m(\u001b[0m\u001b[0mlike_or_not\u001b[0m\u001b[0;34m.\u001b[0m\u001b[0mtext\u001b[0m\u001b[0;34m)\u001b[0m\u001b[0;34m\u001b[0m\u001b[0;34m\u001b[0m\u001b[0m\n",
            "\u001b[0;31mTypeError\u001b[0m: string indices must be integers"
          ]
        }
      ]
    }
  ]
}